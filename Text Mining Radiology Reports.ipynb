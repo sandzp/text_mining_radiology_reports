{
 "cells": [
  {
   "cell_type": "markdown",
   "metadata": {},
   "source": [
    "# Text Mining Radiology Reports"
   ]
  },
  {
   "cell_type": "markdown",
   "metadata": {},
   "source": [
    "The task was to iterate through a zipped directory of multi-modal text files (including further zipped directories) containing synthetically generated radiology reports (CSV, Pickle and JSON) for patients with heart failure and extract the RV/LV ratios for each report which appear after a keyword. Once extracted the ratios were to be compiled and a mean ratio for all the reports was to be calculated and a histogram plotted.\n",
    "\n",
    "Solutions:\n",
    "\n",
    "The mean RV/LV ratio, calculated from 83222 reports is 1.201\n"
   ]
  },
  {
   "cell_type": "markdown",
   "metadata": {},
   "source": [
    "## Main Extraction Function"
   ]
  },
  {
   "cell_type": "code",
   "execution_count": 1,
   "metadata": {},
   "outputs": [],
   "source": [
    "# Import statements\n",
    "\n",
    "import glob\n",
    "import os\n",
    "import re\n",
    "import tarfile\n",
    "import pickle\n",
    "import warnings\n",
    "warnings.filterwarnings(\"ignore\")"
   ]
  },
  {
   "cell_type": "code",
   "execution_count": 2,
   "metadata": {},
   "outputs": [],
   "source": [
    "def main_extract(path):\n",
    "\n",
    "    results_list = []\n",
    "\n",
    "    os.chdir(path)\n",
    "\n",
    "    filetypes = [\"*.csv\", \"*.pkl\", \"*.tar.gz\"]\n",
    "\n",
    "    for item in filetypes:\n",
    "        if item == \"*.csv\":\n",
    "            for file in glob.glob(\"*.csv\"): \n",
    "                with open(file, \"r\") as f:\n",
    "                    text = f.read()\n",
    "                    result = re.findall(r\"((?i)ratio|(?i)rv\\/lv|(?i)lv\\/rv|(?i)lv:rv).*?(\\d+(?:,\\d+)*(?:\\.\\d+)?)\", text)\n",
    "                    results_list.append(result)\n",
    "\n",
    "        elif item == \"*.pkl\":\n",
    "            for file in glob.glob(\"*.pkl\"):\n",
    "                with open(file, 'rb') as openfile:\n",
    "                    text = pickle.load(openfile)\n",
    "                    for item in text:\n",
    "                        result = re.findall(r\"((?i)ratio|(?i)rv\\/lv|(?i)lv\\/rv|(?i)lv:rv).*?(\\d+(?:,\\d+)*(?:\\.\\d+)?)\", str(item))\n",
    "                        results_list.append(result)\n",
    "\n",
    "        elif item == \"*.tar.gz\":\n",
    "            for file in glob.glob(\"*.tar.gz\"):\n",
    "                tar = tarfile.open(file, \"r:gz\")\n",
    "                for file2 in tar.getmembers():\n",
    "                    f = tar.extractfile(file2)\n",
    "                    contents = str(f.read())\n",
    "                    result = re.findall(r\"((?i)ratio|(?i)rv\\/lv|(?i)lv\\/rv|(?i)lv:rv).*?(\\d+(?:,\\d+)*(?:\\.\\d+)?)\", contents)\n",
    "                    results_list.append(result)\n",
    "                    \n",
    "    return results_list"
   ]
  },
  {
   "cell_type": "markdown",
   "metadata": {},
   "source": [
    "## Compile Master List, Plot mean and Histogram\n",
    "\n",
    "This simply takes the data from the 'results_list' object, and extracts only the value from the tuple. It casts it to a string and compiles another list of float values for calculation. It also saves a figure to your working directory. "
   ]
  },
  {
   "cell_type": "code",
   "execution_count": 3,
   "metadata": {},
   "outputs": [],
   "source": [
    "def calculate_and_plot(results):\n",
    "    \n",
    "    import matplotlib.pyplot as plt\n",
    "    %matplotlib inline\n",
    "    \n",
    "    master_list = []\n",
    "\n",
    "    for ratio in results:\n",
    "        for subs in ratio:\n",
    "            r,v = subs\n",
    "            master_list.append(float(v))\n",
    "            \n",
    "    mean = round(sum(master_list)/len(master_list), 3)\n",
    "    \n",
    "    print(\"The mean RV/LV ratio, calculated from {} reports is {}:\".format(len(master_list), mean))\n",
    "    \n",
    "    plt.figure(figsize=(10,7))\n",
    "    plt.hist(master_list, bins = 15)\n",
    "    plt.axvline(mean, linewidth=4, color='green', label='Mean')\n",
    "    plt.legend(fontsize=15)\n",
    "    plt.xlabel(\"RV/LV Ratio\", fontsize=15)\n",
    "    plt.ylabel(\"Count\", fontsize=15)\n",
    "    plt.title(\"Histogram of RV/LV Distributions\", fontsize=20)\n",
    "    plt.savefig(\"figure1\")\n",
    "        \n",
    "    plt.show()\n",
    "\n",
    "    return"
   ]
  },
  {
   "cell_type": "markdown",
   "metadata": {},
   "source": [
    "### Call Functions"
   ]
  },
  {
   "cell_type": "code",
   "execution_count": 4,
   "metadata": {},
   "outputs": [
    {
     "name": "stdout",
     "output_type": "stream",
     "text": [
      "The mean RV/LV ratio, calculated from 83222 reports is 1.201:\n"
     ]
    },
    {
     "data": {
      "image/png": "[encoded data removed]",
      "text/plain": [
       "<Figure size 720x504 with 1 Axes>"
      ]
     },
     "metadata": {
      "needs_background": "light"
     },
     "output_type": "display_data"
    }
   ],
   "source": [
    "calculate_and_plot(main_extract(\"text_mining_radiology_reports/data\"))"
   ]
  },
  {
   "cell_type": "code",
   "execution_count": null,
   "metadata": {},
   "outputs": [],
   "source": []
  }
 ],
 "metadata": {
  "kernelspec": {
   "display_name": "Python 3",
   "language": "python",
   "name": "python3"
  },
  "language_info": {
   "codemirror_mode": {
    "name": "ipython",
    "version": 3
   },
   "file_extension": ".py",
   "mimetype": "text/x-python",
   "name": "python",
   "nbconvert_exporter": "python",
   "pygments_lexer": "ipython3",
   "version": "3.8.3"
  }
 },
 "nbformat": 4,
 "nbformat_minor": 4
}
